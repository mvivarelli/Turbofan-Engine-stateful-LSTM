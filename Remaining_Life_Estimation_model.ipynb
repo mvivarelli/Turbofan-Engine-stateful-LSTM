{
 "cells": [
  {
   "cell_type": "code",
   "execution_count": null,
   "metadata": {
    "id": "pTttwUGpitR2"
   },
   "outputs": [],
   "source": [
    "#!pip install sqlalchemy\n",
    "import json\n",
    "import os\n",
    "import itertools\n",
    "from datetime import datetime\n",
    "import math\n",
    "from sqlalchemy import create_engine"
   ]
  },
  {
   "cell_type": "code",
   "execution_count": null,
   "metadata": {
    "id": "r-5cLxACitSA"
   },
   "outputs": [],
   "source": [
    "from numpy import array\n",
    "from numpy import argmax\n",
    "from sklearn.preprocessing import LabelEncoder\n",
    "from sklearn.preprocessing import OneHotEncoder\n",
    "from sklearn.preprocessing import StandardScaler\n",
    "from sklearn.metrics import confusion_matrix\n",
    "from keras.models import Sequential, load_model\n",
    "from keras.layers import Dense, LSTM, Dropout\n",
    "from keras.backend import clear_session\n",
    "from keras import backend as K"
   ]
  },
  {
   "cell_type": "code",
   "execution_count": null,
   "metadata": {
    "id": "nqHCYFJzitSC"
   },
   "outputs": [],
   "source": [
    "import matplotlib.pyplot as plt\n",
    "#!pip install pickle5\n",
    "import pickle"
   ]
  },
  {
   "cell_type": "code",
   "execution_count": null,
   "metadata": {
    "id": "KTy-7jupitSD"
   },
   "outputs": [],
   "source": [
    "#!pip install colorcet\n",
    "import pandas as pd\n",
    "from pandas.api.types import CategoricalDtype \n",
    "import numpy as np\n",
    "import colorcet as cc\n",
    "from numpy import linspace\n",
    "from scipy.stats.kde import gaussian_kde"
   ]
  },
  {
   "cell_type": "code",
   "execution_count": null,
   "metadata": {
    "colab": {
     "base_uri": "https://localhost:8080/"
    },
    "executionInfo": {
     "elapsed": 51,
     "status": "ok",
     "timestamp": 1632917677522,
     "user": {
      "displayName": "Maurizio Vivarelli",
      "photoUrl": "https://lh3.googleusercontent.com/a/default-user=s64",
      "userId": "09337931341966293696"
     },
     "user_tz": -120
    },
    "id": "qadiHyLoitSE",
    "outputId": "4a732524-5eb1-4d9d-9536-9ac83b177908"
   },
   "outputs": [
    {
     "name": "stdout",
     "output_type": "stream",
     "text": [
      "Drive already mounted at /content/drive; to attempt to forcibly remount, call drive.mount(\"/content/drive\", force_remount=True).\n"
     ]
    }
   ],
   "source": [
    "#leggo i dataframe dal disco\n",
    "from google.colab import drive\n",
    "drive.mount('/content/drive')\n",
    "DATA_PATH = 'drive/MyDrive/Colab Notebooks/PHP4/Remaining_Life_Estimation'"
   ]
  },
  {
   "cell_type": "code",
   "execution_count": null,
   "metadata": {
    "id": "ffgLZVGKjPUo"
   },
   "outputs": [],
   "source": [
    "train_df = pd.read_pickle(DATA_PATH + '/train_df.pkl')\n",
    "test_df = pd.read_pickle(DATA_PATH + '/test_df.pkl')\n",
    "train_df_y = pd.read_pickle(DATA_PATH + '/train_df_y.pkl')\n",
    "test_df_y = pd.read_pickle(DATA_PATH + '/test_df_y.pkl')"
   ]
  },
  {
   "cell_type": "code",
   "execution_count": null,
   "metadata": {
    "id": "JX1M-JYGkk-H"
   },
   "outputs": [],
   "source": [
    "#!ls 'drive/MyDrive/Colab Notebooks'"
   ]
  },
  {
   "cell_type": "code",
   "execution_count": null,
   "metadata": {
    "colab": {
     "base_uri": "https://localhost:8080/"
    },
    "executionInfo": {
     "elapsed": 39,
     "status": "ok",
     "timestamp": 1632917677525,
     "user": {
      "displayName": "Maurizio Vivarelli",
      "photoUrl": "https://lh3.googleusercontent.com/a/default-user=s64",
      "userId": "09337931341966293696"
     },
     "user_tz": -120
    },
    "id": "JXLah14eitSF",
    "outputId": "1847c794-9e15-4036-f20e-bece67250f76"
   },
   "outputs": [
    {
     "data": {
      "text/plain": [
       "31"
      ]
     },
     "execution_count": 8,
     "metadata": {},
     "output_type": "execute_result"
    }
   ],
   "source": [
    "num_steps = 50\n",
    "batch_size = 1\n",
    "num_features_x = 24\n",
    "num_features_y = 3\n",
    "\n",
    "n_rows = train_df.shape[0] % (num_steps * batch_size)\n",
    "n_rows"
   ]
  },
  {
   "cell_type": "code",
   "execution_count": null,
   "metadata": {
    "colab": {
     "base_uri": "https://localhost:8080/"
    },
    "executionInfo": {
     "elapsed": 33,
     "status": "ok",
     "timestamp": 1632917677526,
     "user": {
      "displayName": "Maurizio Vivarelli",
      "photoUrl": "https://lh3.googleusercontent.com/a/default-user=s64",
      "userId": "09337931341966293696"
     },
     "user_tz": -120
    },
    "id": "mJSMaXz9L77u",
    "outputId": "b595346c-962c-44ba-8ce5-6f2f2b06cf07"
   },
   "outputs": [
    {
     "data": {
      "text/plain": [
       "20600"
      ]
     },
     "execution_count": 9,
     "metadata": {},
     "output_type": "execute_result"
    }
   ],
   "source": [
    "train_df.drop(train_df.tail(n_rows).index, inplace = True)\n",
    "train_df_y.drop(train_df_y.tail(n_rows).index, inplace = True)\n",
    "n_rows = test_df.shape[0] % (num_steps * batch_size)\n",
    "test_df.drop(test_df.tail(n_rows).index, inplace = True)\n",
    "test_df_y.drop(test_df_y.tail(n_rows).index, inplace = True)\n",
    "train_df.shape[0]"
   ]
  },
  {
   "cell_type": "code",
   "execution_count": null,
   "metadata": {
    "id": "IREelfv-itSH"
   },
   "outputs": [],
   "source": [
    "#train_df.isnull().values.any()\n",
    "#pd.set_option(\"display.max_columns\", None)\n",
    "#train_df[train_df.isnull().any(axis=1)]\n",
    "train_df = train_df.fillna(0)\n",
    "test_df = test_df.fillna(0)\n",
    "#pd.reset_option(\"display.max_columns\")"
   ]
  },
  {
   "cell_type": "code",
   "execution_count": null,
   "metadata": {
    "id": "TQVyWrFZitSI"
   },
   "outputs": [],
   "source": [
    "x_train = train_df.drop(['id', 'cycle'],axis=1).to_numpy()\n",
    "x_test = test_df.drop(['id', 'cycle'],axis=1).to_numpy()\n",
    "y_train = train_df_y.drop(['id', 'cycle'],axis=1).to_numpy()\n",
    "y_test = test_df_y.drop(['id', 'cycle'],axis=1).to_numpy()"
   ]
  },
  {
   "cell_type": "code",
   "execution_count": null,
   "metadata": {
    "colab": {
     "base_uri": "https://localhost:8080/"
    },
    "executionInfo": {
     "elapsed": 29,
     "status": "ok",
     "timestamp": 1632917677529,
     "user": {
      "displayName": "Maurizio Vivarelli",
      "photoUrl": "https://lh3.googleusercontent.com/a/default-user=s64",
      "userId": "09337931341966293696"
     },
     "user_tz": -120
    },
    "id": "v2msrJW6Mi8R",
    "outputId": "4256dcdd-cf2f-424e-ed85-353775b4a41c"
   },
   "outputs": [
    {
     "data": {
      "text/plain": [
       "array([[-0.31597968, -1.3729532 ,  0.        , ...,  0.        ,\n",
       "         1.34849274,  1.19442705],\n",
       "       [ 0.87272193, -1.03172035,  0.        , ...,  0.        ,\n",
       "         1.01652793,  1.23692196],\n",
       "       [-1.96187421,  1.01567674,  0.        , ...,  0.        ,\n",
       "         0.73989059,  0.50342281],\n",
       "       ...,\n",
       "       [ 0.82700264, -1.3729532 ,  0.        , ...,  0.        ,\n",
       "        -1.14124336, -0.57465465],\n",
       "       [-1.23036553, -0.69048751,  0.        , ...,  0.        ,\n",
       "        -1.14124336, -0.25132379],\n",
       "       [-0.86461119, -1.03172035,  0.        , ...,  0.        ,\n",
       "        -0.58796867, -0.67996813]])"
      ]
     },
     "execution_count": 12,
     "metadata": {},
     "output_type": "execute_result"
    }
   ],
   "source": [
    "x_train"
   ]
  },
  {
   "cell_type": "code",
   "execution_count": null,
   "metadata": {
    "id": "nbgtTWYCitSJ"
   },
   "outputs": [],
   "source": [
    "x_train_shaped = np.reshape(x_train, newshape=(-1, num_steps, num_features_x))\n",
    "x_test_shaped = np.reshape(x_test, newshape=(-1, num_steps, num_features_x))\n",
    "y_train_shaped = np.reshape(y_train, newshape=(-1, num_steps, num_features_y))\n",
    "y_test_shaped = np.reshape(y_test, newshape=(-1, num_steps, num_features_y))"
   ]
  },
  {
   "cell_type": "code",
   "execution_count": null,
   "metadata": {
    "colab": {
     "base_uri": "https://localhost:8080/"
    },
    "executionInfo": {
     "elapsed": 21,
     "status": "ok",
     "timestamp": 1632917677721,
     "user": {
      "displayName": "Maurizio Vivarelli",
      "photoUrl": "https://lh3.googleusercontent.com/a/default-user=s64",
      "userId": "09337931341966293696"
     },
     "user_tz": -120
    },
    "id": "p4036MkkitSJ",
    "outputId": "e6146e8a-4513-4c8b-ee78-7366e08287b4"
   },
   "outputs": [
    {
     "name": "stdout",
     "output_type": "stream",
     "text": [
      "(412, 50, 24)\n",
      "(412, 50, 3)\n",
      "(261, 50, 24)\n",
      "(261, 50, 3)\n"
     ]
    }
   ],
   "source": [
    "print(x_train_shaped.shape)\n",
    "print(y_train_shaped.shape)\n",
    "print(x_test_shaped.shape)\n",
    "print(y_test_shaped.shape)"
   ]
  },
  {
   "cell_type": "code",
   "execution_count": null,
   "metadata": {
    "id": "xKq-9NjhitSK"
   },
   "outputs": [],
   "source": [
    "x_train_final = np.asarray(x_train_shaped).astype('float32')\n",
    "y_train_final = np.asarray(y_train_shaped).astype('float32')\n",
    "x_test_final = np.asarray(x_test_shaped).astype('float32')\n",
    "y_test_final = np.asarray(y_test_shaped).astype('float32')"
   ]
  },
  {
   "cell_type": "code",
   "execution_count": null,
   "metadata": {
    "id": "17WGa5U4zq2x"
   },
   "outputs": [],
   "source": [
    "def weighted_categorical_crossentropy(weights):\n",
    "    \"\"\"\n",
    "    A weighted version of keras.objectives.categorical_crossentropy\n",
    "    \n",
    "    Variables:\n",
    "        weights: numpy array of shape (C,) where C is the number of classes\n",
    "    \n",
    "    Usage:\n",
    "        weights = np.array([0.5,2,10]) # Class one at 0.5, class 2 twice the normal weights, class 3 10x.\n",
    "        loss = weighted_categorical_crossentropy(weights)\n",
    "        model.compile(loss=loss,optimizer='adam')\n",
    "    \"\"\"\n",
    "    \n",
    "    weights = K.variable(weights)\n",
    "        \n",
    "    def loss(y_true, y_pred):\n",
    "        # scale predictions so that the class probas of each sample sum to 1\n",
    "        y_pred /= K.sum(y_pred, axis=-1, keepdims=True)\n",
    "        # clip to prevent NaN's and Inf's\n",
    "        y_pred = K.clip(y_pred, K.epsilon(), 1 - K.epsilon())\n",
    "        # calc\n",
    "        loss = y_true * K.log(y_pred) * weights\n",
    "        loss = -K.sum(loss, -1)\n",
    "        return loss\n",
    "    \n",
    "    return loss"
   ]
  },
  {
   "cell_type": "code",
   "execution_count": null,
   "metadata": {
    "id": "BqdgouS1z1o2"
   },
   "outputs": [],
   "source": [
    "weights = np.array([0.5,5,10]) # Class one at 0.5, class 2 twice the normal weights, class 3 10x.\n",
    "loss = weighted_categorical_crossentropy(weights)"
   ]
  },
  {
   "cell_type": "code",
   "execution_count": null,
   "metadata": {
    "colab": {
     "base_uri": "https://localhost:8080/"
    },
    "executionInfo": {
     "elapsed": 1118,
     "status": "ok",
     "timestamp": 1632917679395,
     "user": {
      "displayName": "Maurizio Vivarelli",
      "photoUrl": "https://lh3.googleusercontent.com/a/default-user=s64",
      "userId": "09337931341966293696"
     },
     "user_tz": -120
    },
    "id": "OwcgaRklitSL",
    "outputId": "5f52e5e1-f6ed-4b61-82ae-6fd40b6f9f60"
   },
   "outputs": [
    {
     "name": "stdout",
     "output_type": "stream",
     "text": [
      "Model: \"sequential\"\n",
      "_________________________________________________________________\n",
      "Layer (type)                 Output Shape              Param #   \n",
      "=================================================================\n",
      "lstm (LSTM)                  (1, 50, 50)               15000     \n",
      "_________________________________________________________________\n",
      "dropout (Dropout)            (1, 50, 50)               0         \n",
      "_________________________________________________________________\n",
      "lstm_1 (LSTM)                (1, 50, 60)               26640     \n",
      "_________________________________________________________________\n",
      "dropout_1 (Dropout)          (1, 50, 60)               0         \n",
      "_________________________________________________________________\n",
      "lstm_2 (LSTM)                (1, 50, 60)               29040     \n",
      "_________________________________________________________________\n",
      "dropout_2 (Dropout)          (1, 50, 60)               0         \n",
      "_________________________________________________________________\n",
      "dense (Dense)                (1, 50, 3)                183       \n",
      "=================================================================\n",
      "Total params: 70,863\n",
      "Trainable params: 70,863\n",
      "Non-trainable params: 0\n",
      "_________________________________________________________________\n",
      "None\n"
     ]
    }
   ],
   "source": [
    "#model\n",
    "model = Sequential()\n",
    "#input\n",
    "model.add(LSTM(units=50, return_sequences=True, activation='tanh', batch_size=batch_size, stateful=True, input_shape = (x_train_final.shape[1], x_train_final.shape[2])))\n",
    "model.add(Dropout(0.2))\n",
    "#hidden layer 1\n",
    "model.add(LSTM(units=60, return_sequences=True, activation='tanh', stateful=True))\n",
    "model.add(Dropout(0.2))\n",
    "#hidden layer 2\n",
    "model.add(LSTM(units=60, return_sequences=True, activation='tanh', stateful=True))\n",
    "model.add(Dropout(0.2))\n",
    "#output\n",
    "model.add(Dense(units=3,activation='softmax'))\n",
    "#model.compile(loss='categorical_crossentropy', optimizer='adam', metrics=['accuracy'])\n",
    "model.compile(loss=loss, optimizer='adam', metrics=['accuracy'])\n",
    "#summary\n",
    "print(model.summary())"
   ]
  },
  {
   "cell_type": "code",
   "execution_count": null,
   "metadata": {
    "colab": {
     "base_uri": "https://localhost:8080/"
    },
    "executionInfo": {
     "elapsed": 563337,
     "status": "ok",
     "timestamp": 1632920441666,
     "user": {
      "displayName": "Maurizio Vivarelli",
      "photoUrl": "https://lh3.googleusercontent.com/a/default-user=s64",
      "userId": "09337931341966293696"
     },
     "user_tz": -120
    },
    "id": "5ytjiixPitSN",
    "outputId": "5f892989-bc72-42d2-feca-9327c516f000"
   },
   "outputs": [
    {
     "name": "stdout",
     "output_type": "stream",
     "text": [
      "Epoch 1/50\n",
      "412/412 [==============================] - 12s 27ms/step - loss: 0.1907 - accuracy: 0.9650\n",
      "Epoch 2/50\n",
      "412/412 [==============================] - 11s 27ms/step - loss: 0.0733 - accuracy: 0.9812\n",
      "Epoch 3/50\n",
      "412/412 [==============================] - 11s 28ms/step - loss: 0.0442 - accuracy: 0.9897\n",
      "Epoch 4/50\n",
      "412/412 [==============================] - 11s 27ms/step - loss: 0.0440 - accuracy: 0.9901\n",
      "Epoch 5/50\n",
      "412/412 [==============================] - 11s 27ms/step - loss: 0.0432 - accuracy: 0.9880\n",
      "Epoch 6/50\n",
      "412/412 [==============================] - 11s 27ms/step - loss: 0.0383 - accuracy: 0.9907\n",
      "Epoch 7/50\n",
      "412/412 [==============================] - 11s 27ms/step - loss: 0.0425 - accuracy: 0.9890\n",
      "Epoch 8/50\n",
      "412/412 [==============================] - 11s 27ms/step - loss: 0.0387 - accuracy: 0.9930\n",
      "Epoch 9/50\n",
      "412/412 [==============================] - 11s 27ms/step - loss: 0.0723 - accuracy: 0.9792\n",
      "Epoch 10/50\n",
      "412/412 [==============================] - 11s 27ms/step - loss: 0.0663 - accuracy: 0.9841\n",
      "Epoch 11/50\n",
      "412/412 [==============================] - 11s 27ms/step - loss: 0.0416 - accuracy: 0.9883\n",
      "Epoch 12/50\n",
      "412/412 [==============================] - 11s 27ms/step - loss: 0.0308 - accuracy: 0.9929\n",
      "Epoch 13/50\n",
      "412/412 [==============================] - 11s 27ms/step - loss: 0.0784 - accuracy: 0.9908\n",
      "Epoch 14/50\n",
      "412/412 [==============================] - 11s 27ms/step - loss: 0.0602 - accuracy: 0.9899\n",
      "Epoch 15/50\n",
      "412/412 [==============================] - 11s 27ms/step - loss: 0.0404 - accuracy: 0.9892\n",
      "Epoch 16/50\n",
      "412/412 [==============================] - 11s 27ms/step - loss: 0.1125 - accuracy: 0.9826\n",
      "Epoch 17/50\n",
      "412/412 [==============================] - 11s 27ms/step - loss: 0.0747 - accuracy: 0.9867\n",
      "Epoch 18/50\n",
      "412/412 [==============================] - 11s 27ms/step - loss: 0.0669 - accuracy: 0.9823\n",
      "Epoch 19/50\n",
      "412/412 [==============================] - 11s 27ms/step - loss: 0.0304 - accuracy: 0.9917\n",
      "Epoch 20/50\n",
      "412/412 [==============================] - 11s 27ms/step - loss: 0.0255 - accuracy: 0.9925\n",
      "Epoch 21/50\n",
      "412/412 [==============================] - 11s 27ms/step - loss: 0.0263 - accuracy: 0.9931\n",
      "Epoch 22/50\n",
      "412/412 [==============================] - 11s 27ms/step - loss: 0.0739 - accuracy: 0.9818\n",
      "Epoch 23/50\n",
      "412/412 [==============================] - 11s 27ms/step - loss: 0.0586 - accuracy: 0.9883\n",
      "Epoch 24/50\n",
      "412/412 [==============================] - 11s 27ms/step - loss: 0.0474 - accuracy: 0.9900\n",
      "Epoch 25/50\n",
      "412/412 [==============================] - 11s 27ms/step - loss: 0.0262 - accuracy: 0.9926\n",
      "Epoch 26/50\n",
      "412/412 [==============================] - 11s 27ms/step - loss: 0.0325 - accuracy: 0.9923\n",
      "Epoch 27/50\n",
      "412/412 [==============================] - 11s 27ms/step - loss: 0.0929 - accuracy: 0.9867\n",
      "Epoch 28/50\n",
      "412/412 [==============================] - 11s 27ms/step - loss: 0.0424 - accuracy: 0.9909\n",
      "Epoch 29/50\n",
      "412/412 [==============================] - 11s 27ms/step - loss: 0.0732 - accuracy: 0.9875\n",
      "Epoch 30/50\n",
      "412/412 [==============================] - 11s 28ms/step - loss: 0.0381 - accuracy: 0.9877\n",
      "Epoch 31/50\n",
      "412/412 [==============================] - 11s 27ms/step - loss: 0.0321 - accuracy: 0.9908\n",
      "Epoch 32/50\n",
      "412/412 [==============================] - 11s 27ms/step - loss: 0.0282 - accuracy: 0.9935\n",
      "Epoch 33/50\n",
      "412/412 [==============================] - 11s 27ms/step - loss: 0.0366 - accuracy: 0.9910\n",
      "Epoch 34/50\n",
      "412/412 [==============================] - 11s 27ms/step - loss: 0.0248 - accuracy: 0.9918\n",
      "Epoch 35/50\n",
      "412/412 [==============================] - 11s 27ms/step - loss: 0.0293 - accuracy: 0.9937\n",
      "Epoch 36/50\n",
      "412/412 [==============================] - 11s 27ms/step - loss: 0.0339 - accuracy: 0.9924\n",
      "Epoch 37/50\n",
      "412/412 [==============================] - 11s 27ms/step - loss: 0.1558 - accuracy: 0.9834\n",
      "Epoch 38/50\n",
      "412/412 [==============================] - 11s 27ms/step - loss: 0.0471 - accuracy: 0.9903\n",
      "Epoch 39/50\n",
      "412/412 [==============================] - 11s 27ms/step - loss: 0.0327 - accuracy: 0.9918\n",
      "Epoch 40/50\n",
      "412/412 [==============================] - 11s 27ms/step - loss: 0.0650 - accuracy: 0.9901\n",
      "Epoch 41/50\n",
      "412/412 [==============================] - 11s 27ms/step - loss: 0.0410 - accuracy: 0.9908\n",
      "Epoch 42/50\n",
      "412/412 [==============================] - 11s 27ms/step - loss: 0.0347 - accuracy: 0.9913\n",
      "Epoch 43/50\n",
      "412/412 [==============================] - 11s 27ms/step - loss: 0.0294 - accuracy: 0.9935\n",
      "Epoch 44/50\n",
      "412/412 [==============================] - 11s 27ms/step - loss: 0.0193 - accuracy: 0.9957\n",
      "Epoch 45/50\n",
      "412/412 [==============================] - 11s 27ms/step - loss: 0.0234 - accuracy: 0.9954\n",
      "Epoch 46/50\n",
      "412/412 [==============================] - 11s 27ms/step - loss: 0.0221 - accuracy: 0.9952\n",
      "Epoch 47/50\n",
      "412/412 [==============================] - 11s 27ms/step - loss: 0.0277 - accuracy: 0.9934\n",
      "Epoch 48/50\n",
      "412/412 [==============================] - 11s 27ms/step - loss: 0.0966 - accuracy: 0.9787\n",
      "Epoch 49/50\n",
      "412/412 [==============================] - 11s 27ms/step - loss: 0.0671 - accuracy: 0.9858\n",
      "Epoch 50/50\n",
      "412/412 [==============================] - 11s 27ms/step - loss: 0.0324 - accuracy: 0.9919\n"
     ]
    }
   ],
   "source": [
    "clear_session()\n",
    "history = model.fit(x_train_final, y_train_final, batch_size=batch_size, shuffle=False, epochs=50)"
   ]
  },
  {
   "cell_type": "code",
   "execution_count": null,
   "metadata": {
    "id": "4y_3PMV9mAB5"
   },
   "outputs": [],
   "source": [
    "#model.save(DATA_PATH + '/model.keras')\n",
    "#pickle.dump(history, open('history.pkl','wb'))"
   ]
  },
  {
   "cell_type": "code",
   "execution_count": null,
   "metadata": {
    "id": "Q1E1eTKwlhi1"
   },
   "outputs": [],
   "source": [
    "#model = load_model(DATA_PATH + '/model.keras')\n",
    "#history = pickle.load(open('history.pkl','rb'))"
   ]
  },
  {
   "cell_type": "code",
   "execution_count": null,
   "metadata": {
    "colab": {
     "base_uri": "https://localhost:8080/"
    },
    "executionInfo": {
     "elapsed": 2939,
     "status": "ok",
     "timestamp": 1632920444596,
     "user": {
      "displayName": "Maurizio Vivarelli",
      "photoUrl": "https://lh3.googleusercontent.com/a/default-user=s64",
      "userId": "09337931341966293696"
     },
     "user_tz": -120
    },
    "id": "FB-gwQvHitSN",
    "outputId": "6c1fd226-b488-4b2a-d2bd-b87f58f9ffc0"
   },
   "outputs": [
    {
     "name": "stdout",
     "output_type": "stream",
     "text": [
      "261/261 - 2s - loss: 0.5081 - accuracy: 0.9526\n"
     ]
    },
    {
     "data": {
      "text/plain": [
       "[0.5080830454826355, 0.9526436924934387]"
      ]
     },
     "execution_count": 55,
     "metadata": {},
     "output_type": "execute_result"
    }
   ],
   "source": [
    "model.evaluate(x_test_final, y_test_final, batch_size=batch_size, verbose=2)"
   ]
  },
  {
   "cell_type": "code",
   "execution_count": null,
   "metadata": {
    "id": "PBlBMxjmzQaB"
   },
   "outputs": [],
   "source": [
    "#pd.DataFrame(np.reshape(model.predict(x_test_final, batch_size=batch_size), newshape=(-1, num_features_y))).to_csv(DATA_PATH + \"/check_accuracy_predict.csv\")\n",
    "#pd.DataFrame(np.reshape(y_test_final, newshape=(-1, num_features_y))).to_csv(DATA_PATH + \"/check_accuracy_test_real.csv\")"
   ]
  },
  {
   "cell_type": "code",
   "execution_count": null,
   "metadata": {
    "id": "jtGAFgkT184U"
   },
   "outputs": [],
   "source": [
    "#model.predict(x_test_final, batch_size=batch_size)"
   ]
  },
  {
   "cell_type": "code",
   "execution_count": null,
   "metadata": {
    "colab": {
     "base_uri": "https://localhost:8080/",
     "height": 194
    },
    "executionInfo": {
     "elapsed": 30,
     "status": "ok",
     "timestamp": 1632920444600,
     "user": {
      "displayName": "Maurizio Vivarelli",
      "photoUrl": "https://lh3.googleusercontent.com/a/default-user=s64",
      "userId": "09337931341966293696"
     },
     "user_tz": -120
    },
    "id": "Mhi89bstitSO",
    "outputId": "83da1228-1d6f-4c3e-af48-26424a1d5e42"
   },
   "outputs": [
    {
     "data": {
      "text/plain": [
       "<matplotlib.legend.Legend at 0x7f7f19419090>"
      ]
     },
     "execution_count": 58,
     "metadata": {},
     "output_type": "execute_result"
    },
    {
     "data": {
      "image/png": "[encoded data removed]",
      "text/plain": [
       "<Figure size 432x288 with 1 Axes>"
      ]
     },
     "metadata": {
      "needs_background": "light"
     },
     "output_type": "display_data"
    }
   ],
   "source": [
    "plt.subplot(211)\n",
    "plt.plot(history.history['accuracy'])\n",
    "plt.title('model accuracy')\n",
    "plt.ylabel('accuracy')\n",
    "plt.xlabel('epoch')\n",
    "plt.legend(['accuracy'], loc='upper left')"
   ]
  },
  {
   "cell_type": "code",
   "execution_count": null,
   "metadata": {
    "id": "fognt2N8itSS"
   },
   "outputs": [],
   "source": [
    "def plot_confusion_matrix(cm, classes, title='Confusion matrix', cmap=plt.cm.Blues):\n",
    "\n",
    "    cm = cm.astype('float') / cm.sum(axis=1)[:, np.newaxis]\n",
    "\n",
    "    plt.imshow(cm, interpolation='nearest', cmap=cmap)\n",
    "    plt.title(title, fontsize=25)\n",
    "    #plt.colorbar()\n",
    "    tick_marks = np.arange(len(classes))\n",
    "    plt.xticks(tick_marks, classes, rotation=90, fontsize=15)\n",
    "    plt.yticks(tick_marks, classes, fontsize=15)\n",
    "\n",
    "    fmt = '.2f'\n",
    "    thresh = cm.max() / 2.\n",
    "    for i, j in itertools.product(range(cm.shape[0]), range(cm.shape[1])):\n",
    "        plt.text(j, i, format(cm[i, j], fmt),\n",
    "                 horizontalalignment=\"center\",\n",
    "                 color=\"white\" if cm[i, j] > thresh else \"black\", fontsize = 14)\n",
    "\n",
    "    plt.ylabel('True label', fontsize=20)\n",
    "    plt.xlabel('Predicted label', fontsize=20)"
   ]
  },
  {
   "cell_type": "code",
   "execution_count": null,
   "metadata": {
    "colab": {
     "base_uri": "https://localhost:8080/",
     "height": 529
    },
    "executionInfo": {
     "elapsed": 3410,
     "status": "ok",
     "timestamp": 1632920447996,
     "user": {
      "displayName": "Maurizio Vivarelli",
      "photoUrl": "https://lh3.googleusercontent.com/a/default-user=s64",
      "userId": "09337931341966293696"
     },
     "user_tz": -120
    },
    "id": "tSFStcNFitSS",
    "outputId": "cde6e670-7f2e-477b-e282-2452757788b4"
   },
   "outputs": [
    {
     "data": {
      "image/png": "[encoded data removed]",
      "text/plain": [
       "<Figure size 504x504 with 1 Axes>"
      ]
     },
     "metadata": {
      "needs_background": "light"
     },
     "output_type": "display_data"
    }
   ],
   "source": [
    "cnf_matrix = confusion_matrix(np.argmax(np.reshape(y_train_final, newshape=(-1, num_features_y)), axis=1), np.argmax(np.reshape(model.predict(x_train_final, batch_size=batch_size), newshape=(-1, num_features_y)),axis=1))\n",
    "plt.figure(figsize=(7,7))\n",
    "plot_confusion_matrix(cnf_matrix, classes=['Normal','Warning','Alarm'], title=\"Confusion matrix\")\n",
    "plt.show()"
   ]
  },
  {
   "cell_type": "code",
   "execution_count": null,
   "metadata": {
    "id": "TpqWbVIZVCYY"
   },
   "outputs": [],
   "source": [
    "pd.DataFrame(np.argmax(np.reshape(model.predict(x_test_final, batch_size=batch_size), newshape=(-1, num_features_y)),axis=1)).to_csv(DATA_PATH + \"/check_accuracy_predict_argmax.csv\")\n",
    "pd.DataFrame(np.argmax(np.reshape(y_test_final, newshape=(-1, num_features_y)), axis=1)).to_csv(DATA_PATH + \"/check_accuracy_test_real_argmax.csv\")"
   ]
  },
  {
   "cell_type": "code",
   "execution_count": null,
   "metadata": {
    "colab": {
     "base_uri": "https://localhost:8080/",
     "height": 529
    },
    "executionInfo": {
     "elapsed": 2275,
     "status": "ok",
     "timestamp": 1632920452266,
     "user": {
      "displayName": "Maurizio Vivarelli",
      "photoUrl": "https://lh3.googleusercontent.com/a/default-user=s64",
      "userId": "09337931341966293696"
     },
     "user_tz": -120
    },
    "id": "W8YSsUOSitST",
    "outputId": "4c184820-0664-46d5-9c68-2fb91efbf0d5"
   },
   "outputs": [
    {
     "data": {
      "image/png": "[encoded data removed]",
      "text/plain": [
       "<Figure size 504x504 with 1 Axes>"
      ]
     },
     "metadata": {
      "needs_background": "light"
     },
     "output_type": "display_data"
    }
   ],
   "source": [
    "cnf_matrix = confusion_matrix(np.argmax(np.reshape(y_test_final, newshape=(-1, num_features_y)), axis=1), np.argmax(np.reshape(model.predict(x_test_final, batch_size=batch_size), newshape=(-1, num_features_y)),axis=1))\n",
    "plt.figure(figsize=(7,7))\n",
    "plot_confusion_matrix(cnf_matrix, classes=['Normal','Warning','Alarm'], title=\"Confusion matrix\")\n",
    "plt.show()"
   ]
  }
 ],
 "metadata": {
  "colab": {
   "collapsed_sections": [],
   "name": "Remaining_Life_Estimation_model.ipynb",
   "provenance": []
  },
  "kernelspec": {
   "display_name": "Python 3",
   "language": "python",
   "name": "python3"
  },
  "language_info": {
   "codemirror_mode": {
    "name": "ipython",
    "version": 3
   },
   "file_extension": ".py",
   "mimetype": "text/x-python",
   "name": "python",
   "nbconvert_exporter": "python",
   "pygments_lexer": "ipython3",
   "version": "3.8.8"
  }
 },
 "nbformat": 4,
 "nbformat_minor": 1
}
